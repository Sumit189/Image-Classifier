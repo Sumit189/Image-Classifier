{
  "nbformat": 4,
  "nbformat_minor": 0,
  "metadata": {
    "colab": {
      "name": "Face Classifier.ipynb",
      "version": "0.3.2",
      "provenance": [],
      "collapsed_sections": [],
      "include_colab_link": true
    },
    "kernelspec": {
      "name": "python3",
      "display_name": "Python 3"
    },
    "accelerator": "GPU"
  },
  "cells": [
    {
      "cell_type": "markdown",
      "metadata": {
        "id": "view-in-github",
        "colab_type": "text"
      },
      "source": [
        "<a href=\"https://colab.research.google.com/github/Sumit189/Image-Classifier/blob/master/Face_Classifier.ipynb\" target=\"_parent\"><img src=\"https://colab.research.google.com/assets/colab-badge.svg\" alt=\"Open In Colab\"/></a>"
      ]
    },
    {
      "cell_type": "code",
      "metadata": {
        "id": "pjkh1V1PbVVR",
        "colab_type": "code",
        "colab": {}
      },
      "source": [
        "from google.colab import drive"
      ],
      "execution_count": 0,
      "outputs": []
    },
    {
      "cell_type": "code",
      "metadata": {
        "id": "5ElA3_qvb3ag",
        "colab_type": "code",
        "outputId": "1835b7b0-09c2-4aba-d79a-0d882a1f1400",
        "colab": {
          "base_uri": "https://localhost:8080/",
          "height": 34
        }
      },
      "source": [
        "from google.colab import drive\n",
        "drive.mount('/content/drive',force_remount=True)"
      ],
      "execution_count": 0,
      "outputs": [
        {
          "output_type": "stream",
          "text": [
            "Mounted at /content/drive\n"
          ],
          "name": "stdout"
        }
      ]
    },
    {
      "cell_type": "code",
      "metadata": {
        "id": "MAWuIBr4cLes",
        "colab_type": "code",
        "colab": {}
      },
      "source": [
        "import tensorflow as tf\n",
        "from keras.preprocessing import image"
      ],
      "execution_count": 0,
      "outputs": []
    },
    {
      "cell_type": "code",
      "metadata": {
        "id": "dB0epskccSLB",
        "colab_type": "code",
        "colab": {}
      },
      "source": [
        "model=tf.keras.Sequential([\n",
        "    tf.keras.layers.Conv2D(32,(3,3),activation='relu',input_shape=(64,64,3)),\n",
        "    tf.keras.layers.MaxPooling2D(2,2),\n",
        "    tf.keras.layers.Conv2D(64,(3,3),activation='relu'),\n",
        "    tf.keras.layers.MaxPooling2D(2,2),\n",
        "    tf.keras.layers.Conv2D(128,(3,3),activation='relu'),\n",
        "    tf.keras.layers.MaxPooling2D(2,2),\n",
        "    tf.keras.layers.Dropout(0.5),\n",
        "    tf.keras.layers.Flatten(),\n",
        "    tf.keras.layers.Dense(128,activation='relu'),\n",
        "    tf.keras.layers.Dense(1,activation='sigmoid')\n",
        "])"
      ],
      "execution_count": 0,
      "outputs": []
    },
    {
      "cell_type": "code",
      "metadata": {
        "id": "7Bt1uTmTcVFz",
        "colab_type": "code",
        "colab": {}
      },
      "source": [
        "model.compile(optimizer='adam',loss='binary_crossentropy',metrics=['accuracy'])"
      ],
      "execution_count": 0,
      "outputs": []
    },
    {
      "cell_type": "code",
      "metadata": {
        "id": "7Mk40FQQccO3",
        "colab_type": "code",
        "outputId": "8e71dbe1-9469-424f-de7c-b950bb38a975",
        "colab": {
          "base_uri": "https://localhost:8080/",
          "height": 52
        }
      },
      "source": [
        "from keras.preprocessing.image import ImageDataGenerator\n",
        "\n",
        "train_data=ImageDataGenerator(\n",
        "            rotation_range=45,\n",
        "            width_shift_range=0.2,\n",
        "            height_shift_range=0.2,\n",
        "            rescale=1./255,\n",
        "            shear_range=0.2,\n",
        "            zoom_range=0.2,\n",
        "            horizontal_flip=True,\n",
        "    fill_mode='nearest',\n",
        ")\n",
        "\n",
        "test_data=ImageDataGenerator(rescale=1./255)\n",
        "\n",
        "training_set=train_data.flow_from_directory(\n",
        "         'drive/My Drive/Machine Learning/Training_set',\n",
        "          target_size=(64,64),\n",
        "          batch_size=32,\n",
        "          class_mode='binary'\n",
        ")\n",
        "\n",
        "test_set=test_data.flow_from_directory(\n",
        "         'drive/My Drive/Machine Learning/Test_set',\n",
        "          target_size=(64,64),\n",
        "          batch_size=32,\n",
        "          class_mode='binary'\n",
        ")\n",
        "\n"
      ],
      "execution_count": 0,
      "outputs": [
        {
          "output_type": "stream",
          "text": [
            "Found 22 images belonging to 2 classes.\n",
            "Found 20 images belonging to 2 classes.\n"
          ],
          "name": "stdout"
        }
      ]
    },
    {
      "cell_type": "code",
      "metadata": {
        "id": "G7GjOXRrc-mD",
        "colab_type": "code",
        "outputId": "2ba5fec6-6ef9-4c35-e93b-541be3fc7a1b",
        "colab": {
          "base_uri": "https://localhost:8080/",
          "height": 1000
        }
      },
      "source": [
        "history=model.fit_generator(training_set,\n",
        "                         steps_per_epoch = 4,\n",
        "                         epochs = 50,\n",
        "                         validation_data = test_set,\n",
        "                         validation_steps=4)"
      ],
      "execution_count": 0,
      "outputs": [
        {
          "output_type": "stream",
          "text": [
            "Epoch 1/50\n",
            "4/4 [==============================] - 22s 5s/step - loss: 0.6220 - acc: 0.5568 - val_loss: 0.9511 - val_acc: 0.5000\n",
            "Epoch 2/50\n",
            "4/4 [==============================] - 19s 5s/step - loss: 0.6042 - acc: 0.6477 - val_loss: 1.1224 - val_acc: 0.4000\n",
            "Epoch 3/50\n",
            "4/4 [==============================] - 19s 5s/step - loss: 0.5274 - acc: 0.7727 - val_loss: 1.2033 - val_acc: 0.4500\n",
            "Epoch 4/50\n",
            "4/4 [==============================] - 19s 5s/step - loss: 0.4953 - acc: 0.8182 - val_loss: 1.3908 - val_acc: 0.5000\n",
            "Epoch 5/50\n",
            "4/4 [==============================] - 19s 5s/step - loss: 0.4707 - acc: 0.8295 - val_loss: 1.7789 - val_acc: 0.4000\n",
            "Epoch 6/50\n",
            "4/4 [==============================] - 19s 5s/step - loss: 0.4189 - acc: 0.8295 - val_loss: 2.0659 - val_acc: 0.4000\n",
            "Epoch 7/50\n",
            "4/4 [==============================] - 19s 5s/step - loss: 0.4702 - acc: 0.7727 - val_loss: 1.5564 - val_acc: 0.5000\n",
            "Epoch 8/50\n",
            "4/4 [==============================] - 19s 5s/step - loss: 0.3933 - acc: 0.8636 - val_loss: 1.6553 - val_acc: 0.5000\n",
            "Epoch 9/50\n",
            "4/4 [==============================] - 19s 5s/step - loss: 0.4282 - acc: 0.8068 - val_loss: 2.0467 - val_acc: 0.4500\n",
            "Epoch 10/50\n",
            "4/4 [==============================] - 19s 5s/step - loss: 0.4086 - acc: 0.8182 - val_loss: 1.6711 - val_acc: 0.5000\n",
            "Epoch 11/50\n",
            "4/4 [==============================] - 19s 5s/step - loss: 0.4126 - acc: 0.8295 - val_loss: 2.2192 - val_acc: 0.3500\n",
            "Epoch 12/50\n",
            "4/4 [==============================] - 19s 5s/step - loss: 0.3561 - acc: 0.8750 - val_loss: 1.9829 - val_acc: 0.5500\n",
            "Epoch 13/50\n",
            "4/4 [==============================] - 19s 5s/step - loss: 0.3247 - acc: 0.8977 - val_loss: 2.2788 - val_acc: 0.5000\n",
            "Epoch 14/50\n",
            "4/4 [==============================] - 19s 5s/step - loss: 0.3030 - acc: 0.8750 - val_loss: 2.1314 - val_acc: 0.5500\n",
            "Epoch 15/50\n",
            "4/4 [==============================] - 19s 5s/step - loss: 0.2517 - acc: 0.9205 - val_loss: 2.6995 - val_acc: 0.5000\n",
            "Epoch 16/50\n",
            "4/4 [==============================] - 18s 5s/step - loss: 0.2691 - acc: 0.8750 - val_loss: 2.3389 - val_acc: 0.4500\n",
            "Epoch 17/50\n",
            "4/4 [==============================] - 19s 5s/step - loss: 0.2134 - acc: 0.9091 - val_loss: 3.0793 - val_acc: 0.5000\n",
            "Epoch 18/50\n",
            "4/4 [==============================] - 19s 5s/step - loss: 0.1904 - acc: 0.9432 - val_loss: 3.1936 - val_acc: 0.5000\n",
            "Epoch 19/50\n",
            "4/4 [==============================] - 19s 5s/step - loss: 0.1934 - acc: 0.9318 - val_loss: 3.2689 - val_acc: 0.6000\n",
            "Epoch 20/50\n",
            "4/4 [==============================] - 18s 5s/step - loss: 0.1360 - acc: 0.9545 - val_loss: 3.7354 - val_acc: 0.5500\n",
            "Epoch 21/50\n",
            "4/4 [==============================] - 18s 5s/step - loss: 0.2679 - acc: 0.8977 - val_loss: 3.2575 - val_acc: 0.7500\n",
            "Epoch 22/50\n",
            "4/4 [==============================] - 18s 5s/step - loss: 0.1104 - acc: 0.9659 - val_loss: 4.2253 - val_acc: 0.6000\n",
            "Epoch 23/50\n",
            "4/4 [==============================] - 19s 5s/step - loss: 0.3128 - acc: 0.8636 - val_loss: 3.8437 - val_acc: 0.6500\n",
            "Epoch 24/50\n",
            "4/4 [==============================] - 19s 5s/step - loss: 0.3477 - acc: 0.8864 - val_loss: 5.0310 - val_acc: 0.5500\n",
            "Epoch 25/50\n",
            "4/4 [==============================] - 18s 5s/step - loss: 0.2311 - acc: 0.9091 - val_loss: 3.2876 - val_acc: 0.6000\n",
            "Epoch 26/50\n",
            "4/4 [==============================] - 19s 5s/step - loss: 0.1540 - acc: 0.9432 - val_loss: 3.3220 - val_acc: 0.6000\n",
            "Epoch 27/50\n",
            "4/4 [==============================] - 19s 5s/step - loss: 0.1782 - acc: 0.9659 - val_loss: 2.7150 - val_acc: 0.7000\n",
            "Epoch 28/50\n",
            "4/4 [==============================] - 19s 5s/step - loss: 0.1790 - acc: 0.9205 - val_loss: 3.7720 - val_acc: 0.5000\n",
            "Epoch 29/50\n",
            "4/4 [==============================] - 20s 5s/step - loss: 0.1341 - acc: 0.9545 - val_loss: 3.4733 - val_acc: 0.5500\n",
            "Epoch 30/50\n",
            "4/4 [==============================] - 19s 5s/step - loss: 0.0846 - acc: 0.9773 - val_loss: 3.2465 - val_acc: 0.6500\n",
            "Epoch 31/50\n",
            "4/4 [==============================] - 19s 5s/step - loss: 0.0600 - acc: 1.0000 - val_loss: 4.0681 - val_acc: 0.5000\n",
            "Epoch 32/50\n",
            "4/4 [==============================] - 19s 5s/step - loss: 0.1200 - acc: 0.9545 - val_loss: 4.6168 - val_acc: 0.5500\n",
            "Epoch 33/50\n",
            "4/4 [==============================] - 19s 5s/step - loss: 0.0624 - acc: 1.0000 - val_loss: 3.2601 - val_acc: 0.6000\n",
            "Epoch 34/50\n",
            "4/4 [==============================] - 18s 5s/step - loss: 0.1748 - acc: 0.9545 - val_loss: 4.6128 - val_acc: 0.6500\n",
            "Epoch 35/50\n",
            "4/4 [==============================] - 19s 5s/step - loss: 0.1696 - acc: 0.9318 - val_loss: 4.2400 - val_acc: 0.7000\n",
            "Epoch 36/50\n",
            "4/4 [==============================] - 19s 5s/step - loss: 0.1749 - acc: 0.9432 - val_loss: 3.7649 - val_acc: 0.6500\n",
            "Epoch 37/50\n",
            "4/4 [==============================] - 18s 5s/step - loss: 0.1594 - acc: 0.9318 - val_loss: 5.3206 - val_acc: 0.5500\n",
            "Epoch 38/50\n",
            "4/4 [==============================] - 19s 5s/step - loss: 0.1462 - acc: 0.9432 - val_loss: 3.2407 - val_acc: 0.7500\n",
            "Epoch 39/50\n",
            "4/4 [==============================] - 18s 5s/step - loss: 0.0771 - acc: 0.9773 - val_loss: 4.8599 - val_acc: 0.5000\n",
            "Epoch 40/50\n",
            "4/4 [==============================] - 19s 5s/step - loss: 0.1142 - acc: 0.9659 - val_loss: 3.7124 - val_acc: 0.7000\n",
            "Epoch 41/50\n",
            "4/4 [==============================] - 19s 5s/step - loss: 0.0885 - acc: 0.9886 - val_loss: 3.7661 - val_acc: 0.7500\n",
            "Epoch 42/50\n",
            "4/4 [==============================] - 21s 5s/step - loss: 0.0460 - acc: 0.9886 - val_loss: 5.1088 - val_acc: 0.5000\n",
            "Epoch 43/50\n",
            "4/4 [==============================] - 19s 5s/step - loss: 0.0563 - acc: 0.9659 - val_loss: 4.5398 - val_acc: 0.7000\n",
            "Epoch 44/50\n",
            "4/4 [==============================] - 19s 5s/step - loss: 0.0781 - acc: 0.9659 - val_loss: 4.0271 - val_acc: 0.7500\n",
            "Epoch 45/50\n",
            "4/4 [==============================] - 19s 5s/step - loss: 0.0236 - acc: 1.0000 - val_loss: 5.6727 - val_acc: 0.5000\n",
            "Epoch 46/50\n",
            "4/4 [==============================] - 19s 5s/step - loss: 0.0691 - acc: 0.9659 - val_loss: 5.2973 - val_acc: 0.6500\n",
            "Epoch 47/50\n",
            "4/4 [==============================] - 19s 5s/step - loss: 0.0830 - acc: 0.9773 - val_loss: 4.7208 - val_acc: 0.7500\n",
            "Epoch 48/50\n",
            "4/4 [==============================] - 19s 5s/step - loss: 0.0447 - acc: 0.9886 - val_loss: 5.8616 - val_acc: 0.6500\n",
            "Epoch 49/50\n",
            "4/4 [==============================] - 19s 5s/step - loss: 0.0481 - acc: 0.9659 - val_loss: 4.9698 - val_acc: 0.6500\n",
            "Epoch 50/50\n",
            "4/4 [==============================] - 19s 5s/step - loss: 0.0322 - acc: 1.0000 - val_loss: 4.5357 - val_acc: 0.7000\n"
          ],
          "name": "stdout"
        }
      ]
    },
    {
      "cell_type": "code",
      "metadata": {
        "id": "x5bqFHBZlSsx",
        "colab_type": "code",
        "outputId": "29d59751-c25d-4520-9611-239e02a47a7d",
        "colab": {
          "base_uri": "https://localhost:8080/",
          "height": 516
        }
      },
      "source": [
        "acc=history.history['acc']\n",
        "val_acc=history.history['val_acc']\n",
        "loss=history.history['loss']\n",
        "val_loss=history.history['val_loss']\n",
        "\n",
        "epoch_range=range(50)\n",
        "\n",
        "import matplotlib.pyplot as plt\n",
        "plt.figure(figsize=(8,8))\n",
        "plt.subplot(1,2,1)\n",
        "plt.plot(epoch_range,acc)\n",
        "plt.plot(epoch_range,val_acc)\n",
        "plt.title('Accuracy')\n",
        "\n",
        "plt.subplot(1,2,2)\n",
        "plt.plot(epoch_range,loss)\n",
        "plt.plot(epoch_range,val_loss)\n",
        "plt.title('Loss')"
      ],
      "execution_count": 0,
      "outputs": [
        {
          "output_type": "execute_result",
          "data": {
            "text/plain": [
              "Text(0.5, 1.0, 'Loss')"
            ]
          },
          "metadata": {
            "tags": []
          },
          "execution_count": 22
        },
        {
          "output_type": "display_data",
          "data": {
            "image/png": "[encoded data removed]",
            "text/plain": [
              "<Figure size 576x576 with 2 Axes>"
            ]
          },
          "metadata": {
            "tags": []
          }
        }
      ]
    },
    {
      "cell_type": "markdown",
      "metadata": {
        "id": "cFPBGCRvw4-F",
        "colab_type": "text"
      },
      "source": [
        "#CAMERA IN COLAB\n"
      ]
    },
    {
      "cell_type": "code",
      "metadata": {
        "id": "qp32d2ziw73t",
        "colab_type": "code",
        "colab": {}
      },
      "source": [
        "from IPython.display import HTML, Audio\n",
        "from google.colab.output import eval_js\n",
        "from base64 import b64decode\n",
        "import numpy as np\n",
        "import io\n",
        "from PIL import Image\n",
        "\n",
        "VIDEO_HTML = \"\"\"\n",
        "<video autoplay\n",
        " width=%d height=%d style='cursor: pointer;'></video>\n",
        "<script>\n",
        "\n",
        "var video = document.querySelector('video')\n",
        "\n",
        "navigator.mediaDevices.getUserMedia({ video: true })\n",
        "  .then(stream=> video.srcObject = stream)\n",
        "  \n",
        "var data = new Promise(resolve=>{\n",
        "  video.onclick = ()=>{\n",
        "    var canvas = document.createElement('canvas')\n",
        "    var [w,h] = [video.offsetWidth, video.offsetHeight]\n",
        "    canvas.width = w\n",
        "    canvas.height = h\n",
        "    canvas.getContext('2d')\n",
        "          .drawImage(video, 0, 0, w, h)\n",
        "    video.srcObject.getVideoTracks()[0].stop()\n",
        "    video.replaceWith(canvas)\n",
        "    resolve(canvas.toDataURL('image/jpeg', %f))\n",
        "  }\n",
        "})\n",
        "</script>\n",
        "\"\"\"\n",
        "def take_photo(filename='photo.jpg', quality=0.8, size=(800,600)):\n",
        "  display(HTML(VIDEO_HTML % (size[0],size[1],quality)))\n",
        "  data = eval_js(\"data\")\n",
        "  binary = b64decode(data.split(',')[1])\n",
        "  f = io.BytesIO(binary)\n",
        "  return np.asarray(Image.open(f))\n",
        "\n",
        "img = take_photo()\n",
        "im = Image.fromarray(img)\n",
        "im.save(\"test.jpg\")"
      ],
      "execution_count": 0,
      "outputs": []
    },
    {
      "cell_type": "code",
      "metadata": {
        "id": "nQ_yvuaJdSO8",
        "colab_type": "code",
        "colab": {}
      },
      "source": [
        "import numpy as np\n",
        "import os\n",
        "import random\n",
        "from keras.preprocessing import image\n",
        "import matplotlib.image as mpimg\n",
        "\n",
        "file_name=['test.jpg']\n",
        "plt.figure(figsize=(10,10))\n",
        "for i in file_name:\n",
        "  test_image=image.load_img(i,target_size=(64,64))\n",
        "  test_image=image.img_to_array(test_image)\n",
        "  test_image=np.expand_dims(test_image,axis=0)\n",
        "  result=model.predict(test_image)\n",
        "  training_set.class_indices\n",
        "  img=mpimg.imread('/content/'+i)\n",
        "  plt.imshow(img)\n",
        "  plt.axis(\"off\")\n",
        "  plt.show()\n",
        "  if result[0][0]>0.5:\n",
        "    prediction='Vivek'\n",
        "  else:\n",
        "    prediction='Sumit'\n",
        "  print(\"The Result is : \"+prediction)\n",
        "  \n",
        "  check=input(\"Is this Prediction right ? Y/N\\n\")\n",
        "  if(check=='y'):\n",
        "    saving=input(\"Would you like to Save image for future reference ? Y/N\\n\")\n",
        "    if(saving=='y'):\n",
        "      train_test=input(\"Save the data into TRAINING SET or VALIDATION SET ?\\n\")\n",
        "      if(train_test=='TRAIN' or train_test=='train' or train_test=='TRAINING SET' or train_test=='training set' or train_test=='Training set' or train_test=='Training Set'):\n",
        "        im.save('drive/My Drive/Machine Learning/Training_set/'+prediction+'/'+str(random.randint(0,100))+'.jpg')\n",
        "        print(\"Successfully saved image to the Training Set\")\n",
        "      elif(train_test=='VALIDATE' or train_test=='validate' or train_test=='Validation set' or train_test=='VALIDATION SET' or train_test=='validation set' or train_test=='Validation Set'):\n",
        "        im.save('drive/My Drive/Machine Learning/Test_set/'+prediction+'/'+str(random.randint(0,100))+'.jpg')\n",
        "        print(\"Successfully saved image to the Validation set\")\n",
        "      else:\n",
        "        print(\"Invalid Input!!!\")\n",
        "    elif(saving=='n'):\n",
        "      print(\"Thank you for trying\")\n",
        "    else:\n",
        "      print(\"Invalid Input!!!\")\n",
        "  elif (check=='n'):\n",
        "      print(\"Sorry for inconvinence\")\n",
        "  else:\n",
        "    print(\"Invalid Input!!!\")\n",
        "\n"
      ],
      "execution_count": 0,
      "outputs": []
    },
    {
      "cell_type": "code",
      "metadata": {
        "id": "CgWT_xK5drb-",
        "colab_type": "code",
        "colab": {}
      },
      "source": [
        "\n"
      ],
      "execution_count": 0,
      "outputs": []
    }
  ]
}